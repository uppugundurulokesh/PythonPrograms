{
 "cells": [
  {
   "cell_type": "code",
   "execution_count": 36,
   "metadata": {},
   "outputs": [
    {
     "name": "stdout",
     "output_type": "stream",
     "text": [
      "6\n",
      "5\n"
     ]
    }
   ],
   "source": [
    "def isprime(nn):\n",
    "   \n",
    "    for i in range(2,nn):\n",
    "        if(nn%i==0):\n",
    "            return False\n",
    "    #print(nn)\n",
    "    return True\n",
    "\n",
    "def isprimefactsum(n):\n",
    "    s=0\n",
    "    for k in range(2,n):\n",
    "        if(n%k==0):\n",
    "            if(isprime(k)):\n",
    "                s=s+k\n",
    "    return s\n",
    "    \n",
    "\n",
    "n=int(input())\n",
    "h=isprimefactsum(n)\n",
    "\n",
    "print(h)\n",
    "\n",
    "\n",
    "            \n",
    "        \n",
    "        \n",
    "\n",
    "                \n",
    "    "
   ]
  },
  {
   "cell_type": "code",
   "execution_count": null,
   "metadata": {},
   "outputs": [],
   "source": []
  }
 ],
 "metadata": {
  "kernelspec": {
   "display_name": "Python 3",
   "language": "python",
   "name": "python3"
  },
  "language_info": {
   "codemirror_mode": {
    "name": "ipython",
    "version": 3
   },
   "file_extension": ".py",
   "mimetype": "text/x-python",
   "name": "python",
   "nbconvert_exporter": "python",
   "pygments_lexer": "ipython3",
   "version": "3.7.3"
  }
 },
 "nbformat": 4,
 "nbformat_minor": 2
}
